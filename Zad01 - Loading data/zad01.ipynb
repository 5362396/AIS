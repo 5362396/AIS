{
 "cells": [
  {
   "cell_type": "code",
   "id": "initial_id",
   "metadata": {
    "collapsed": true,
    "ExecuteTime": {
     "end_time": "2024-10-09T14:13:19.566215Z",
     "start_time": "2024-10-09T14:13:19.562877Z"
    }
   },
   "source": "import pandas as pd",
   "outputs": [],
   "execution_count": 64
  },
  {
   "metadata": {
    "ExecuteTime": {
     "end_time": "2024-10-09T14:13:19.578381Z",
     "start_time": "2024-10-09T14:13:19.567214Z"
    }
   },
   "cell_type": "code",
   "source": [
    "df = pd.read_csv('iris.txt', delimiter='\\t')\n",
    "df"
   ],
   "id": "92234224e68c5284",
   "outputs": [
    {
     "data": {
      "text/plain": [
       "     sepal_length_in_cm  sepal_width_in_cm  petal_length_in_cm  \\\n",
       "0                   6.5                3.0                 5.2   \n",
       "1                   5.1                2.5                 3.0   \n",
       "2                   4.9                3.1                 1.5   \n",
       "3                   4.9                3.1                 1.5   \n",
       "4                   6.8                3.0                 5.5   \n",
       "..                  ...                ...                 ...   \n",
       "145                 7.6                3.0                 6.6   \n",
       "146                 5.5                2.6                 4.4   \n",
       "147                 5.5                3.5                 1.3   \n",
       "148                 6.4                3.1                 5.5   \n",
       "149                 5.4                3.0                 4.5   \n",
       "\n",
       "     petal_width_in_cm  class  \n",
       "0                  2.0      3  \n",
       "1                  1.1      2  \n",
       "2                  0.1      1  \n",
       "3                  0.1      1  \n",
       "4                  2.1      3  \n",
       "..                 ...    ...  \n",
       "145                2.1      3  \n",
       "146                1.2      2  \n",
       "147                0.2      1  \n",
       "148                1.8      3  \n",
       "149                1.5      2  \n",
       "\n",
       "[150 rows x 5 columns]"
      ],
      "text/html": [
       "<div>\n",
       "<style scoped>\n",
       "    .dataframe tbody tr th:only-of-type {\n",
       "        vertical-align: middle;\n",
       "    }\n",
       "\n",
       "    .dataframe tbody tr th {\n",
       "        vertical-align: top;\n",
       "    }\n",
       "\n",
       "    .dataframe thead th {\n",
       "        text-align: right;\n",
       "    }\n",
       "</style>\n",
       "<table border=\"1\" class=\"dataframe\">\n",
       "  <thead>\n",
       "    <tr style=\"text-align: right;\">\n",
       "      <th></th>\n",
       "      <th>sepal_length_in_cm</th>\n",
       "      <th>sepal_width_in_cm</th>\n",
       "      <th>petal_length_in_cm</th>\n",
       "      <th>petal_width_in_cm</th>\n",
       "      <th>class</th>\n",
       "    </tr>\n",
       "  </thead>\n",
       "  <tbody>\n",
       "    <tr>\n",
       "      <th>0</th>\n",
       "      <td>6.5</td>\n",
       "      <td>3.0</td>\n",
       "      <td>5.2</td>\n",
       "      <td>2.0</td>\n",
       "      <td>3</td>\n",
       "    </tr>\n",
       "    <tr>\n",
       "      <th>1</th>\n",
       "      <td>5.1</td>\n",
       "      <td>2.5</td>\n",
       "      <td>3.0</td>\n",
       "      <td>1.1</td>\n",
       "      <td>2</td>\n",
       "    </tr>\n",
       "    <tr>\n",
       "      <th>2</th>\n",
       "      <td>4.9</td>\n",
       "      <td>3.1</td>\n",
       "      <td>1.5</td>\n",
       "      <td>0.1</td>\n",
       "      <td>1</td>\n",
       "    </tr>\n",
       "    <tr>\n",
       "      <th>3</th>\n",
       "      <td>4.9</td>\n",
       "      <td>3.1</td>\n",
       "      <td>1.5</td>\n",
       "      <td>0.1</td>\n",
       "      <td>1</td>\n",
       "    </tr>\n",
       "    <tr>\n",
       "      <th>4</th>\n",
       "      <td>6.8</td>\n",
       "      <td>3.0</td>\n",
       "      <td>5.5</td>\n",
       "      <td>2.1</td>\n",
       "      <td>3</td>\n",
       "    </tr>\n",
       "    <tr>\n",
       "      <th>...</th>\n",
       "      <td>...</td>\n",
       "      <td>...</td>\n",
       "      <td>...</td>\n",
       "      <td>...</td>\n",
       "      <td>...</td>\n",
       "    </tr>\n",
       "    <tr>\n",
       "      <th>145</th>\n",
       "      <td>7.6</td>\n",
       "      <td>3.0</td>\n",
       "      <td>6.6</td>\n",
       "      <td>2.1</td>\n",
       "      <td>3</td>\n",
       "    </tr>\n",
       "    <tr>\n",
       "      <th>146</th>\n",
       "      <td>5.5</td>\n",
       "      <td>2.6</td>\n",
       "      <td>4.4</td>\n",
       "      <td>1.2</td>\n",
       "      <td>2</td>\n",
       "    </tr>\n",
       "    <tr>\n",
       "      <th>147</th>\n",
       "      <td>5.5</td>\n",
       "      <td>3.5</td>\n",
       "      <td>1.3</td>\n",
       "      <td>0.2</td>\n",
       "      <td>1</td>\n",
       "    </tr>\n",
       "    <tr>\n",
       "      <th>148</th>\n",
       "      <td>6.4</td>\n",
       "      <td>3.1</td>\n",
       "      <td>5.5</td>\n",
       "      <td>1.8</td>\n",
       "      <td>3</td>\n",
       "    </tr>\n",
       "    <tr>\n",
       "      <th>149</th>\n",
       "      <td>5.4</td>\n",
       "      <td>3.0</td>\n",
       "      <td>4.5</td>\n",
       "      <td>1.5</td>\n",
       "      <td>2</td>\n",
       "    </tr>\n",
       "  </tbody>\n",
       "</table>\n",
       "<p>150 rows × 5 columns</p>\n",
       "</div>"
      ]
     },
     "execution_count": 65,
     "metadata": {},
     "output_type": "execute_result"
    }
   ],
   "execution_count": 65
  },
  {
   "metadata": {
    "ExecuteTime": {
     "end_time": "2024-10-09T14:13:19.583040Z",
     "start_time": "2024-10-09T14:13:19.579382Z"
    }
   },
   "cell_type": "code",
   "source": [
    "label_map = {1: 'Setosa', 2: 'Versicolour', 3: 'Virginica'}\n",
    "df['labeled_class'] = df['class'].map(label_map)"
   ],
   "id": "6eb8a789fa9ae861",
   "outputs": [],
   "execution_count": 66
  },
  {
   "metadata": {
    "ExecuteTime": {
     "end_time": "2024-10-09T14:13:19.587576Z",
     "start_time": "2024-10-09T14:13:19.584040Z"
    }
   },
   "cell_type": "code",
   "source": "float(df['petal_length_in_cm'][0])",
   "id": "f3e7900c42ce6f00",
   "outputs": [
    {
     "data": {
      "text/plain": [
       "5.2"
      ]
     },
     "execution_count": 67,
     "metadata": {},
     "output_type": "execute_result"
    }
   ],
   "execution_count": 67
  },
  {
   "metadata": {
    "ExecuteTime": {
     "end_time": "2024-10-09T14:13:19.591099Z",
     "start_time": "2024-10-09T14:13:19.588576Z"
    }
   },
   "cell_type": "code",
   "source": "float(df['class'][1])",
   "id": "4a118be7f10378ae",
   "outputs": [
    {
     "data": {
      "text/plain": [
       "2.0"
      ]
     },
     "execution_count": 68,
     "metadata": {},
     "output_type": "execute_result"
    }
   ],
   "execution_count": 68
  },
  {
   "metadata": {
    "ExecuteTime": {
     "end_time": "2024-10-09T14:13:19.594550Z",
     "start_time": "2024-10-09T14:13:19.591099Z"
    }
   },
   "cell_type": "code",
   "source": "df['labeled_class'][1]",
   "id": "936bfcc99d11018f",
   "outputs": [
    {
     "data": {
      "text/plain": [
       "'Versicolour'"
      ]
     },
     "execution_count": 69,
     "metadata": {},
     "output_type": "execute_result"
    }
   ],
   "execution_count": 69
  },
  {
   "metadata": {
    "ExecuteTime": {
     "end_time": "2024-10-09T14:13:19.596840Z",
     "start_time": "2024-10-09T14:13:19.594550Z"
    }
   },
   "cell_type": "code",
   "source": "",
   "id": "e10e0e31f4c91007",
   "outputs": [],
   "execution_count": 69
  }
 ],
 "metadata": {
  "kernelspec": {
   "display_name": "Python 3",
   "language": "python",
   "name": "python3"
  },
  "language_info": {
   "codemirror_mode": {
    "name": "ipython",
    "version": 2
   },
   "file_extension": ".py",
   "mimetype": "text/x-python",
   "name": "python",
   "nbconvert_exporter": "python",
   "pygments_lexer": "ipython2",
   "version": "2.7.6"
  }
 },
 "nbformat": 4,
 "nbformat_minor": 5
}
