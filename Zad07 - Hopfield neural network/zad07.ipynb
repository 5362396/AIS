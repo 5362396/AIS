{
 "cells": [
  {
   "cell_type": "markdown",
   "id": "86db398070f7ece8",
   "metadata": {},
   "source": [
    "## Zadanie 1: Sieć neuronowa Hopfielda"
   ]
  },
  {
   "cell_type": "code",
   "id": "initial_id",
   "metadata": {
    "ExecuteTime": {
     "end_time": "2024-12-03T15:51:12.304225Z",
     "start_time": "2024-12-03T15:51:12.300848Z"
    }
   },
   "source": [
    "import matplotlib.pyplot as plt\n",
    "import numpy as np"
   ],
   "outputs": [],
   "execution_count": 281
  },
  {
   "cell_type": "code",
   "id": "f84ec3215ddd0ec6",
   "metadata": {
    "ExecuteTime": {
     "end_time": "2024-12-03T15:51:12.309416Z",
     "start_time": "2024-12-03T15:51:12.306235Z"
    }
   },
   "source": [
    "def rysuj_iteracje(test_bitmap, iteration):\n",
    "    fig, ax = plt.subplots()\n",
    "    \n",
    "    ax.imshow(test_bitmap, cmap='binary')\n",
    "    ax.set_xticks([])\n",
    "    ax.set_yticks([])\n",
    "    ax.set_title(f'Iteracja nr. {iteration + 1}')\n",
    "    \n",
    "    plt.show()"
   ],
   "outputs": [],
   "execution_count": 282
  },
  {
   "cell_type": "code",
   "id": "40a789ab204dd89a",
   "metadata": {
    "ExecuteTime": {
     "end_time": "2024-12-03T15:51:12.317920Z",
     "start_time": "2024-12-03T15:51:12.310423Z"
    }
   },
   "source": [
    "class HopfieldNN:\n",
    "    def __init__(self, height, width):\n",
    "        \"\"\"\n",
    "        Najpierw należy zainicjować sieć neuronową za pomocą metody HopfieldNN(...), \n",
    "        w tym celu należy stworzyć tablicę z wagami sieci o rozmiarze n x n \n",
    "        (n to liczba neuronów; n = szerokość * wysokość) wypełnioną początkowo zerami.\n",
    "        \"\"\"\n",
    "        \n",
    "        n = height * width\n",
    "        self.weights = np.zeros((n, n))\n",
    "\n",
    "    def train_image(self, img):\n",
    "        \"\"\"\n",
    "        Należy kilkukrotnie narysować różne obrazki, a następnie nauczyć sieć za pomocą \n",
    "        metody HopfieldNN.train_image(...). W tym celu trzeba zastosować wzór korekcji \n",
    "        wag neuronów napisany uprzednio. Należy zwrócić uwagę, że wartości podanych \n",
    "        wejść muszą mieć wartość -1 albo +1.\n",
    "        \"\"\"\n",
    "        \n",
    "        img = 2 * np.array(img).flatten() - 1\n",
    "        n = len(img)\n",
    "        \n",
    "        for i in range(n):\n",
    "            for j in range(n):\n",
    "                if i != j:  # gdzie i oraz j to numery różnych neuronów\n",
    "                    self.weights[i, j] += img[i] * img[j] / n  # Uczenie (korekcja) wag neuronów za pomocą reguły Hebba\n",
    "\n",
    "    def recognize_image(self, img, max_retries=100):\n",
    "        \"\"\"\n",
    "        Należy kilkukrotnie narysować obrazki trochę różniące się od poprzednio nauczonych, \n",
    "        a następnie uruchomić funkcję rozpoznania/korekcji obrazu metodą HopfieldNN.recognize_image(...). \n",
    "        Może się zdarzyć, iż za pierwszym razem sieć nie naprawi całego obrazka, \n",
    "        wtedy należy powtórzyć proces rozpoznawania. Za każdym razem sieć Hopfielda powinna finalnie naprawić obraz, \n",
    "        czyli podać jego wersję w postaci tej samej co podczas uczenia, albo też jego negatyw.\n",
    "        \"\"\"\n",
    "        \n",
    "        original_img = img.copy()\n",
    "        current_result = False\n",
    "        \n",
    "        img = 2 * np.array(img).flatten() - 1\n",
    "        n = len(img)\n",
    "        \n",
    "        for iteration in range(max_retries):\n",
    "            prev_iter_img = img.copy()\n",
    "            for i in range(n):\n",
    "                suma = 0\n",
    "                for j in range(n):\n",
    "                    if i != j:\n",
    "                        suma += self.weights[i, j] * img[j]  # 1. Sumowane są wejścia pomnożone przez odpowiednie wagi\n",
    "                img[i] = 1 if suma >= 0 else -1  # 2. Liczona jest wartość wyjścia tego neuronu za pomocą progu 0\n",
    "            \n",
    "            if np.array_equal(prev_iter_img, img):\n",
    "                break\n",
    "            \n",
    "            current_img = (img + 1) // 2\n",
    "            current_result = current_img.reshape(int(np.sqrt(n)), int(np.sqrt(n)))\n",
    "            rysuj_iteracje(current_result, iteration)\n",
    "        \n",
    "        if np.array_equal(original_img, img):\n",
    "            return False\n",
    "        \n",
    "        return current_result"
   ],
   "outputs": [],
   "execution_count": 283
  },
  {
   "cell_type": "markdown",
   "id": "871dbb6525a4c196",
   "metadata": {},
   "source": [
    "Bitmapy wzorcowe"
   ]
  },
  {
   "cell_type": "code",
   "id": "f3d766d1006fa41a",
   "metadata": {
    "ExecuteTime": {
     "end_time": "2024-12-03T15:51:12.324438Z",
     "start_time": "2024-12-03T15:51:12.318938Z"
    }
   },
   "source": [
    "one = np.array([\n",
    "    [1, 1, 0, 0, 0],\n",
    "    [0, 1, 0, 0, 0],\n",
    "    [0, 1, 0, 0, 0],\n",
    "    [0, 1, 0, 0, 0],\n",
    "    [0, 1, 0, 0, 0]\n",
    "])\n",
    "\n",
    "ex = np.array([\n",
    "    [1, 0, 0, 0, 1],\n",
    "    [0, 1, 0, 1, 0],\n",
    "    [0, 0, 1, 0, 0],\n",
    "    [0, 1, 0, 1, 0],\n",
    "    [1, 0, 0, 0, 1]\n",
    "])\n",
    "\n",
    "plus = np.array([\n",
    "    [0, 0, 1, 0, 0],\n",
    "    [0, 0, 1, 0, 0],\n",
    "    [1, 1, 1, 1, 1],\n",
    "    [0, 0, 1, 0, 0],\n",
    "    [0, 0, 1, 0, 0]\n",
    "])"
   ],
   "outputs": [],
   "execution_count": 284
  },
  {
   "cell_type": "markdown",
   "id": "9422bca32af0029e",
   "metadata": {},
   "source": [
    "Bitmapy testowe"
   ]
  },
  {
   "cell_type": "code",
   "id": "10c11aed1d65f634",
   "metadata": {
    "ExecuteTime": {
     "end_time": "2024-12-03T15:51:12.331311Z",
     "start_time": "2024-12-03T15:51:12.325446Z"
    }
   },
   "source": [
    "test1 = np.array([\n",
    "    [0, 1, 0, 0, 0],\n",
    "    [0, 1, 0, 0, 0],\n",
    "    [0, 1, 0, 0, 0],\n",
    "    [0, 1, 0, 0, 0],\n",
    "    [0, 1, 0, 0, 0]\n",
    "])\n",
    "\n",
    "test2 = np.array([\n",
    "    [1, 1, 0, 0, 1],\n",
    "    [0, 1, 0, 1, 0],\n",
    "    [0, 1, 1, 1, 0],\n",
    "    [0, 1, 0, 1, 0],\n",
    "    [1, 1, 0, 0, 1]\n",
    "])\n",
    "\n",
    "test3 = np.array([\n",
    "    [0, 0, 0, 0, 0],\n",
    "    [0, 0, 1, 0, 0],\n",
    "    [1, 1, 1, 1, 1],\n",
    "    [0, 0, 0, 0, 0],\n",
    "    [0, 0, 1, 0, 0]\n",
    "])\n",
    "\n",
    "test4 = np.array([\n",
    "    [0, 1, 1, 1, 1],\n",
    "    [1, 0, 1, 1, 1],\n",
    "    [1, 0, 1, 1, 1],\n",
    "    [1, 0, 1, 1, 1],\n",
    "    [1, 0, 1, 1, 1]\n",
    "])"
   ],
   "outputs": [],
   "execution_count": 285
  },
  {
   "cell_type": "code",
   "id": "ca557bea47e57915",
   "metadata": {
    "ExecuteTime": {
     "end_time": "2024-12-03T15:51:12.427683Z",
     "start_time": "2024-12-03T15:51:12.332319Z"
    }
   },
   "source": [
    "bitmaps = [one, ex, plus]\n",
    "test_bitmaps = [test1, test2, test3, test4]\n",
    "\n",
    "hopfield_obj = HopfieldNN(height=5, width=5)\n",
    "[hopfield_obj.train_image(bitmap) for bitmap in bitmaps]\n",
    "[hopfield_obj.recognize_image(bitmap) for bitmap in test_bitmaps]"
   ],
   "outputs": [
    {
     "data": {
      "text/plain": [
       "<Figure size 640x480 with 1 Axes>"
      ],
      "image/png": "[encoded data removed]"
     },
     "metadata": {},
     "output_type": "display_data"
    },
    {
     "data": {
      "text/plain": [
       "<Figure size 640x480 with 1 Axes>"
      ],
      "image/png": "[encoded data removed]"
     },
     "metadata": {},
     "output_type": "display_data"
    },
    {
     "data": {
      "text/plain": [
       "<Figure size 640x480 with 1 Axes>"
      ],
      "image/png": "[encoded data removed]"
     },
     "metadata": {},
     "output_type": "display_data"
    },
    {
     "data": {
      "text/plain": [
       "<Figure size 640x480 with 1 Axes>"
      ],
      "image/png": "[encoded data removed]"
     },
     "metadata": {},
     "output_type": "display_data"
    },
    {
     "data": {
      "text/plain": [
       "[array([[1, 1, 0, 0, 0],\n",
       "        [0, 1, 0, 0, 0],\n",
       "        [0, 1, 0, 0, 0],\n",
       "        [0, 1, 0, 0, 0],\n",
       "        [0, 1, 0, 0, 0]]),\n",
       " array([[1, 0, 0, 0, 1],\n",
       "        [0, 1, 0, 1, 0],\n",
       "        [0, 0, 1, 0, 0],\n",
       "        [0, 1, 0, 1, 0],\n",
       "        [1, 0, 0, 0, 1]]),\n",
       " array([[0, 0, 1, 0, 0],\n",
       "        [0, 0, 1, 0, 0],\n",
       "        [1, 1, 1, 1, 1],\n",
       "        [0, 0, 1, 0, 0],\n",
       "        [0, 0, 1, 0, 0]]),\n",
       " array([[0, 0, 1, 1, 1],\n",
       "        [1, 0, 1, 1, 1],\n",
       "        [1, 0, 1, 1, 1],\n",
       "        [1, 0, 1, 1, 1],\n",
       "        [1, 0, 1, 1, 1]])]"
      ]
     },
     "execution_count": 286,
     "metadata": {},
     "output_type": "execute_result"
    }
   ],
   "execution_count": 286
  }
 ],
 "metadata": {
  "kernelspec": {
   "display_name": "Python 3 (ipykernel)",
   "language": "python",
   "name": "python3"
  },
  "language_info": {
   "codemirror_mode": {
    "name": "ipython",
    "version": 3
   },
   "file_extension": ".py",
   "mimetype": "text/x-python",
   "name": "python",
   "nbconvert_exporter": "python",
   "pygments_lexer": "ipython3",
   "version": "3.12.3"
  }
 },
 "nbformat": 4,
 "nbformat_minor": 5
}
