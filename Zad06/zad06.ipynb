{
 "cells": [
  {
   "metadata": {},
   "cell_type": "markdown",
   "source": "## Zadanie 1: Algorytm zachłannego dopasowania punktu",
   "id": "94f2178a9a6e5030"
  },
  {
   "metadata": {
    "ExecuteTime": {
     "end_time": "2024-10-26T19:22:19.744246Z",
     "start_time": "2024-10-26T19:22:19.740742Z"
    }
   },
   "cell_type": "code",
   "source": "import numpy as np",
   "id": "782beefc198c80bd",
   "outputs": [],
   "execution_count": 74
  },
  {
   "metadata": {
    "ExecuteTime": {
     "end_time": "2024-10-26T19:22:19.751646Z",
     "start_time": "2024-10-26T19:22:19.745165Z"
    }
   },
   "cell_type": "code",
   "source": [
    "def euclidean_distance(p1, p2):\n",
    "    return np.sqrt((p1[0] - p2[0]) ** 2 + (p1[1] - p2[1]) ** 2)"
   ],
   "id": "75a740a094a31b83",
   "outputs": [],
   "execution_count": 75
  },
  {
   "metadata": {
    "ExecuteTime": {
     "end_time": "2024-10-26T19:22:19.760582Z",
     "start_time": "2024-10-26T19:22:19.757613Z"
    }
   },
   "cell_type": "code",
   "source": [
    "def miara_niepodobienstwa(ba, bb):\n",
    "    miara = 0\n",
    "    \n",
    "    black_ba = np.argwhere(ba == 1)\n",
    "    black_bb = np.argwhere(bb == 1)\n",
    "    \n",
    "    for pay, pax in black_ba:\n",
    "        odl_min = float('inf')\n",
    "        \n",
    "        for pby, pbx in black_bb:\n",
    "            odl_akt = euclidean_distance((pay, pax), (pby, pbx))\n",
    "            odl_min = min(odl_min, odl_akt)\n",
    "        \n",
    "        miara += odl_min\n",
    "    \n",
    "    return miara"
   ],
   "id": "32c91277c1dfbe86",
   "outputs": [],
   "execution_count": 76
  },
  {
   "metadata": {
    "ExecuteTime": {
     "end_time": "2024-10-26T19:22:19.805564Z",
     "start_time": "2024-10-26T19:22:19.802883Z"
    }
   },
   "cell_type": "code",
   "source": [
    "def miara_podobienstwa_obustronnego(bitmap_a, bitmap_b):\n",
    "    return -(miara_niepodobienstwa(bitmap_a, bitmap_b) + miara_niepodobienstwa(bitmap_b, bitmap_a))"
   ],
   "id": "db4ff5b78b2d6cd3",
   "outputs": [],
   "execution_count": 77
  },
  {
   "metadata": {
    "ExecuteTime": {
     "end_time": "2024-10-26T19:22:19.824289Z",
     "start_time": "2024-10-26T19:22:19.820871Z"
    }
   },
   "cell_type": "code",
   "source": [
    "def class_prediction(test_bitmap, bitmap_classes):\n",
    "    best_match = None\n",
    "    best_similarity = float('-inf')\n",
    "\n",
    "    for i, bitmap in enumerate(bitmap_classes):\n",
    "        similarity = miara_podobienstwa_obustronnego(test_bitmap, bitmap)\n",
    "        \n",
    "        if similarity > best_similarity:\n",
    "            best_similarity = similarity\n",
    "            best_match = i + 1\n",
    "\n",
    "    return best_match"
   ],
   "id": "cf4ffd716627d610",
   "outputs": [],
   "execution_count": 78
  },
  {
   "metadata": {
    "ExecuteTime": {
     "end_time": "2024-10-26T19:22:19.828409Z",
     "start_time": "2024-10-26T19:22:19.824289Z"
    }
   },
   "cell_type": "code",
   "source": [
    "one = np.array([\n",
    "    [0, 0, 0, 1],\n",
    "    [0, 0, 1, 1],\n",
    "    [0, 1, 0, 1],\n",
    "    [0, 0, 0, 1],\n",
    "    [0, 0, 0, 1]\n",
    "])\n",
    "\n",
    "two = np.array([\n",
    "    [0, 1, 1, 1],\n",
    "    [1, 0, 0, 1],\n",
    "    [0, 0, 1, 0],\n",
    "    [0, 1, 0, 0],\n",
    "    [1, 1, 1, 1]\n",
    "])\n",
    "\n",
    "three = np.array([\n",
    "    [1, 1, 1, 0],\n",
    "    [0, 0, 0, 1],\n",
    "    [1, 1, 1, 1],\n",
    "    [0, 0, 0, 1],\n",
    "    [1, 1, 1, 0]\n",
    "])"
   ],
   "id": "2bc22fda37625b8a",
   "outputs": [],
   "execution_count": 79
  },
  {
   "metadata": {
    "ExecuteTime": {
     "end_time": "2024-10-26T19:22:19.832486Z",
     "start_time": "2024-10-26T19:22:19.828409Z"
    }
   },
   "cell_type": "code",
   "source": [
    "test1 = np.array([\n",
    "    [0, 0, 0, 0],\n",
    "    [0, 0, 1, 1],\n",
    "    [0, 1, 1, 1],\n",
    "    [0, 0, 0, 1],\n",
    "    [0, 0, 0, 1]\n",
    "])\n",
    "\n",
    "test2 = np.array([\n",
    "    [1, 1, 1, 1],\n",
    "    [0, 0, 0, 1],\n",
    "    [1, 1, 1, 1],\n",
    "    [0, 0, 1, 1],\n",
    "    [1, 1, 1, 1]\n",
    "])\n",
    "\n",
    "test3 = np.array([\n",
    "    [1, 1, 1, 1],\n",
    "    [0, 0, 0, 1],\n",
    "    [0, 0, 1, 0],\n",
    "    [1, 1, 0, 0],\n",
    "    [1, 1, 1, 1]\n",
    "])"
   ],
   "id": "a9e36dad5785b9ee",
   "outputs": [],
   "execution_count": 80
  },
  {
   "cell_type": "code",
   "id": "initial_id",
   "metadata": {
    "collapsed": true,
    "ExecuteTime": {
     "end_time": "2024-10-26T19:22:19.839391Z",
     "start_time": "2024-10-26T19:22:19.832486Z"
    }
   },
   "source": [
    "bitmaps = [one, two, three]\n",
    "test_bitmaps = [test1, test2, test3]\n",
    "\n",
    "for i, bitmap in enumerate(test_bitmaps):\n",
    "    predicted_class = class_prediction(bitmap, bitmaps)\n",
    "    print(f'Bitmapa testowa {i + 1} należy do klasy: {predicted_class}')"
   ],
   "outputs": [
    {
     "name": "stdout",
     "output_type": "stream",
     "text": [
      "Bitmapa testowa 1 należy do klasy: 1\n",
      "Bitmapa testowa 2 należy do klasy: 3\n",
      "Bitmapa testowa 3 należy do klasy: 2\n"
     ]
    }
   ],
   "execution_count": 81
  }
 ],
 "metadata": {
  "kernelspec": {
   "display_name": "Python 3",
   "language": "python",
   "name": "python3"
  },
  "language_info": {
   "codemirror_mode": {
    "name": "ipython",
    "version": 2
   },
   "file_extension": ".py",
   "mimetype": "text/x-python",
   "name": "python",
   "nbconvert_exporter": "python",
   "pygments_lexer": "ipython2",
   "version": "2.7.6"
  }
 },
 "nbformat": 4,
 "nbformat_minor": 5
}
